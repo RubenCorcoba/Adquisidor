{
 "cells": [
  {
   "cell_type": "markdown",
   "metadata": {},
   "source": [
    "### Señales Electricas 2024\n",
    "***\n",
    "#### Trabajo Practico 14"
   ]
  },
  {
   "cell_type": "code",
   "execution_count": 1,
   "metadata": {},
   "outputs": [],
   "source": [
    "import numpy as np\n",
    "import serial \n",
    "import matplotlib.pyplot as plt\n",
    "import scipy.signal\n",
    "from scipy.fft import fft, fftfreq, fftshift, ifft\n",
    "from IPython.display import Audio\n"
   ]
  },
  {
   "cell_type": "code",
   "execution_count": 2,
   "metadata": {},
   "outputs": [],
   "source": [
    "def tomaLecturas(puerto:str,cantidad:int,ancho:int=2,orden:str='little')-> np.ndarray:\n",
    "    \"\"\"\n",
    "    Realiza la captura de una n datos de un puerto COM de la PC.\n",
    "    \n",
    "    Parameters:\n",
    "    ----------\n",
    "    puerto: str\n",
    "        puerto de la PC de donde se leen los datos. ejmplo \"COM6\" \n",
    "    cantidad: int\n",
    "        cantida de lecturas a realizar.\n",
    "    ancho :int\n",
    "        cantidad de byte a leidos en cada lectura\n",
    "    orden: str\n",
    "    \n",
    "    Return:\n",
    "    ------\n",
    "    señal: array (1D)\n",
    "        señal de capturada\n",
    "    \n",
    "    \"\"\"\n",
    "    with serial.Serial(puerto) as s:\n",
    "        datos=s.read(ancho*cantidad)\n",
    "    señal_capturada =np.array([ int.from_bytes(datos[ancho*i:ancho*(i+1)],orden,signed=False) for i in range(cantidad)]) \n",
    "    \n",
    "    return señal_capturada"
   ]
  },
  {
   "cell_type": "code",
   "execution_count": 42,
   "metadata": {},
   "outputs": [],
   "source": [
    "cantidad_bytes = 60*4096\n",
    "datos = tomaLecturas(\"COM24\",cantidad_bytes) # Cambiar segun el puerto de la pc.\n"
   ]
  },
  {
   "cell_type": "code",
   "execution_count": null,
   "metadata": {},
   "outputs": [],
   "source": [
    "plt.plot(*scipy.signal.periodogram(datos,fs=180000))\n",
    "plt.xlim(0,100)"
   ]
  },
  {
   "cell_type": "code",
   "execution_count": null,
   "metadata": {},
   "outputs": [],
   "source": [
    "plt.plot(datos[:10000])\n"
   ]
  },
  {
   "cell_type": "code",
   "execution_count": null,
   "metadata": {},
   "outputs": [],
   "source": []
  },
  {
   "cell_type": "code",
   "execution_count": null,
   "metadata": {},
   "outputs": [],
   "source": []
  }
 ],
 "metadata": {
  "kernelspec": {
   "display_name": "Python 3",
   "language": "python",
   "name": "python3"
  },
  "language_info": {
   "codemirror_mode": {
    "name": "ipython",
    "version": 3
   },
   "file_extension": ".py",
   "mimetype": "text/x-python",
   "name": "python",
   "nbconvert_exporter": "python",
   "pygments_lexer": "ipython3",
   "version": "3.12.7"
  }
 },
 "nbformat": 4,
 "nbformat_minor": 2
}
